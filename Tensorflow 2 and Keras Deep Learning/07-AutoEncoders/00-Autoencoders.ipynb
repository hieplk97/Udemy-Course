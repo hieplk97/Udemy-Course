{
 "cells": [
  {
   "cell_type": "markdown",
   "metadata": {},
   "source": [
    "___\n",
    "\n",
    "<a href='http://www.pieriandata.com'><img src='../Pierian_Data_Logo.png'/></a>\n",
    "___\n",
    "<center><em>Copyright Pierian Data</em></center>\n",
    "<center><em>For more information, visit us at <a href='http://www.pieriandata.com'>www.pieriandata.com</a></em></center>\n",
    "\n",
    "# AutoEncoders for Dimensionality Reduction"
   ]
  },
  {
   "cell_type": "code",
   "execution_count": 1,
   "metadata": {},
   "outputs": [],
   "source": [
    "import numpy as np\n",
    "import pandas as pd\n",
    "import seaborn as sns\n",
    "import matplotlib.pyplot as plt\n",
    "\n",
    "%matplotlib inline"
   ]
  },
  {
   "cell_type": "code",
   "execution_count": 2,
   "metadata": {},
   "outputs": [],
   "source": [
    "from sklearn.datasets import make_blobs"
   ]
  },
  {
   "cell_type": "code",
   "execution_count": 3,
   "metadata": {},
   "outputs": [],
   "source": [
    "data = make_blobs(n_samples=300,\n",
    "    n_features=2,\n",
    "    centers=2,\n",
    "    cluster_std=1.0,random_state=101)"
   ]
  },
  {
   "cell_type": "code",
   "execution_count": 4,
   "metadata": {},
   "outputs": [],
   "source": [
    "X,y = data"
   ]
  },
  {
   "cell_type": "code",
   "execution_count": 5,
   "metadata": {},
   "outputs": [],
   "source": [
    "np.random.seed(seed=101)\n",
    "z_noise = np.random.normal(size=len(X))\n",
    "z_noise = pd.Series(z_noise)"
   ]
  },
  {
   "cell_type": "code",
   "execution_count": 6,
   "metadata": {},
   "outputs": [],
   "source": [
    "feat = pd.DataFrame(X)\n",
    "feat = pd.concat([feat,z_noise],axis=1)\n",
    "feat.columns = ['X1','X2','X3']"
   ]
  },
  {
   "cell_type": "code",
   "execution_count": 7,
   "metadata": {},
   "outputs": [
    {
     "data": {
      "text/html": [
       "<div>\n",
       "<style scoped>\n",
       "    .dataframe tbody tr th:only-of-type {\n",
       "        vertical-align: middle;\n",
       "    }\n",
       "\n",
       "    .dataframe tbody tr th {\n",
       "        vertical-align: top;\n",
       "    }\n",
       "\n",
       "    .dataframe thead th {\n",
       "        text-align: right;\n",
       "    }\n",
       "</style>\n",
       "<table border=\"1\" class=\"dataframe\">\n",
       "  <thead>\n",
       "    <tr style=\"text-align: right;\">\n",
       "      <th></th>\n",
       "      <th>X1</th>\n",
       "      <th>X2</th>\n",
       "      <th>X3</th>\n",
       "    </tr>\n",
       "  </thead>\n",
       "  <tbody>\n",
       "    <tr>\n",
       "      <th>0</th>\n",
       "      <td>-8.877721</td>\n",
       "      <td>-6.760078</td>\n",
       "      <td>2.706850</td>\n",
       "    </tr>\n",
       "    <tr>\n",
       "      <th>1</th>\n",
       "      <td>0.630638</td>\n",
       "      <td>3.107075</td>\n",
       "      <td>0.628133</td>\n",
       "    </tr>\n",
       "    <tr>\n",
       "      <th>2</th>\n",
       "      <td>-0.240609</td>\n",
       "      <td>2.820690</td>\n",
       "      <td>0.907969</td>\n",
       "    </tr>\n",
       "    <tr>\n",
       "      <th>3</th>\n",
       "      <td>-7.839091</td>\n",
       "      <td>-8.207545</td>\n",
       "      <td>0.503826</td>\n",
       "    </tr>\n",
       "    <tr>\n",
       "      <th>4</th>\n",
       "      <td>-10.972908</td>\n",
       "      <td>-7.390676</td>\n",
       "      <td>0.651118</td>\n",
       "    </tr>\n",
       "  </tbody>\n",
       "</table>\n",
       "</div>"
      ],
      "text/plain": [
       "          X1        X2        X3\n",
       "0  -8.877721 -6.760078  2.706850\n",
       "1   0.630638  3.107075  0.628133\n",
       "2  -0.240609  2.820690  0.907969\n",
       "3  -7.839091 -8.207545  0.503826\n",
       "4 -10.972908 -7.390676  0.651118"
      ]
     },
     "execution_count": 7,
     "metadata": {},
     "output_type": "execute_result"
    }
   ],
   "source": [
    "feat.head()"
   ]
  },
  {
   "cell_type": "code",
   "execution_count": 8,
   "metadata": {},
   "outputs": [
    {
     "data": {
      "text/plain": [
       "<matplotlib.collections.PathCollection at 0x266c1e86c70>"
      ]
     },
     "execution_count": 8,
     "metadata": {},
     "output_type": "execute_result"
    },
    {
     "data": {
      "image/png": "[encoded data removed]",
      "text/plain": [
       "<Figure size 432x288 with 1 Axes>"
      ]
     },
     "metadata": {
      "needs_background": "light"
     },
     "output_type": "display_data"
    }
   ],
   "source": [
    "plt.scatter(feat['X1'],feat['X2'],c=y)"
   ]
  },
  {
   "cell_type": "markdown",
   "metadata": {},
   "source": [
    "https://matplotlib.org/mpl_toolkits/mplot3d/tutorial.html#scatter-plots"
   ]
  },
  {
   "cell_type": "code",
   "execution_count": 9,
   "metadata": {},
   "outputs": [],
   "source": [
    "from mpl_toolkits.mplot3d import Axes3D"
   ]
  },
  {
   "cell_type": "code",
   "execution_count": 10,
   "metadata": {},
   "outputs": [],
   "source": [
    "# %matplotlib notebook"
   ]
  },
  {
   "cell_type": "code",
   "execution_count": 11,
   "metadata": {},
   "outputs": [
    {
     "data": {
      "text/plain": [
       "<mpl_toolkits.mplot3d.art3d.Path3DCollection at 0x266c1f4ee50>"
      ]
     },
     "execution_count": 11,
     "metadata": {},
     "output_type": "execute_result"
    },
    {
     "data": {
      "image/png": "[encoded data removed]",
      "text/plain": [
       "<Figure size 432x288 with 1 Axes>"
      ]
     },
     "metadata": {
      "needs_background": "light"
     },
     "output_type": "display_data"
    }
   ],
   "source": [
    "fig = plt.figure()\n",
    "ax = fig.add_subplot(111, projection='3d')\n",
    "ax.scatter(feat['X1'],feat['X2'],feat['X3'],c=y)"
   ]
  },
  {
   "cell_type": "markdown",
   "metadata": {},
   "source": [
    "# Encoder and Decoder"
   ]
  },
  {
   "cell_type": "code",
   "execution_count": 12,
   "metadata": {},
   "outputs": [],
   "source": [
    "from tensorflow.keras.models import Sequential\n",
    "from tensorflow.keras.layers import Dense\n",
    "from tensorflow.keras.optimizers import SGD"
   ]
  },
  {
   "cell_type": "code",
   "execution_count": 13,
   "metadata": {},
   "outputs": [],
   "source": [
    "# 3 --> 2\n",
    "encoder = Sequential()\n",
    "encoder.add(Dense(units=2,activation='relu',input_shape=[3]))"
   ]
  },
  {
   "cell_type": "code",
   "execution_count": 14,
   "metadata": {},
   "outputs": [],
   "source": [
    "# 2 ---> 3\n",
    "decoder = Sequential()\n",
    "decoder.add(Dense(units=3,activation='relu',input_shape=[2]))"
   ]
  },
  {
   "cell_type": "code",
   "execution_count": 15,
   "metadata": {},
   "outputs": [],
   "source": [
    "# ENCODER\n",
    "# 3 ---> 2 ----> 3\n",
    "autoencoder = Sequential([encoder,decoder])\n",
    "autoencoder.compile(loss=\"mse\" ,optimizer=SGD(lr=1.5))"
   ]
  },
  {
   "cell_type": "code",
   "execution_count": 16,
   "metadata": {},
   "outputs": [],
   "source": [
    "from sklearn.preprocessing import MinMaxScaler"
   ]
  },
  {
   "cell_type": "code",
   "execution_count": 17,
   "metadata": {},
   "outputs": [],
   "source": [
    "# Note how all the data is used! There is no \"right\" answer here\n",
    "scaler = MinMaxScaler()\n",
    "scaled_data = scaler.fit_transform(feat)"
   ]
  },
  {
   "cell_type": "code",
   "execution_count": 18,
   "metadata": {},
   "outputs": [],
   "source": [
    "# scaled_data"
   ]
  },
  {
   "cell_type": "code",
   "execution_count": 19,
   "metadata": {},
   "outputs": [
    {
     "name": "stdout",
     "output_type": "stream",
     "text": [
      "Epoch 1/5\n",
      "10/10 [==============================] - 0s 2ms/step - loss: 0.1848\n",
      "Epoch 2/5\n",
      "10/10 [==============================] - 0s 2ms/step - loss: 0.1545\n",
      "Epoch 3/5\n",
      "10/10 [==============================] - 0s 2ms/step - loss: 0.1463\n",
      "Epoch 4/5\n",
      "10/10 [==============================] - 0s 1ms/step - loss: 0.1440\n",
      "Epoch 5/5\n",
      "10/10 [==============================] - 0s 1ms/step - loss: 0.1383\n"
     ]
    },
    {
     "data": {
      "text/plain": [
       "<tensorflow.python.keras.callbacks.History at 0x266ce4b5bb0>"
      ]
     },
     "execution_count": 19,
     "metadata": {},
     "output_type": "execute_result"
    }
   ],
   "source": [
    "autoencoder.fit(scaled_data,scaled_data,epochs=5)"
   ]
  },
  {
   "cell_type": "code",
   "execution_count": 20,
   "metadata": {},
   "outputs": [],
   "source": [
    "encoded_2dim = encoder.predict(scaled_data)"
   ]
  },
  {
   "cell_type": "code",
   "execution_count": 21,
   "metadata": {},
   "outputs": [
    {
     "data": {
      "text/plain": [
       "array([[0.9355453 , 0.        ],\n",
       "       [0.        , 0.        ],\n",
       "       [0.        , 0.        ],\n",
       "       [0.6460165 , 0.        ],\n",
       "       [0.78085315, 0.        ],\n",
       "       [0.5939837 , 0.        ],\n",
       "       [0.        , 0.        ],\n",
       "       [0.7384761 , 0.        ],\n",
       "       [0.        , 0.        ],\n",
       "       [0.        , 0.        ],\n",
       "       [0.6444338 , 0.        ],\n",
       "       [0.6041736 , 0.        ],\n",
       "       [0.        , 0.        ],\n",
       "       [0.4486765 , 0.        ],\n",
       "       [0.        , 0.        ],\n",
       "       [0.65185887, 0.        ],\n",
       "       [0.        , 0.        ],\n",
       "       [0.12514439, 0.        ],\n",
       "       [0.2846303 , 0.        ],\n",
       "       [0.        , 0.        ],\n",
       "       [0.6967484 , 0.        ],\n",
       "       [0.07280588, 0.        ],\n",
       "       [0.        , 0.        ],\n",
       "       [0.47198012, 0.        ],\n",
       "       [0.70871806, 0.        ],\n",
       "       [0.        , 0.        ],\n",
       "       [0.        , 0.        ],\n",
       "       [0.        , 0.        ],\n",
       "       [0.734655  , 0.        ],\n",
       "       [0.689668  , 0.        ],\n",
       "       [0.81461245, 0.        ],\n",
       "       [0.6253457 , 0.        ],\n",
       "       [0.        , 0.        ],\n",
       "       [0.        , 0.        ],\n",
       "       [0.5866595 , 0.        ],\n",
       "       [0.589871  , 0.        ],\n",
       "       [0.        , 0.        ],\n",
       "       [0.03748238, 0.        ],\n",
       "       [0.        , 0.        ],\n",
       "       [0.201852  , 0.        ],\n",
       "       [0.        , 0.        ],\n",
       "       [0.573708  , 0.        ],\n",
       "       [0.        , 0.        ],\n",
       "       [0.5906724 , 0.        ],\n",
       "       [0.        , 0.        ],\n",
       "       [0.593079  , 0.        ],\n",
       "       [0.68111295, 0.        ],\n",
       "       [0.68912256, 0.        ],\n",
       "       [0.86047316, 0.        ],\n",
       "       [0.4866879 , 0.        ],\n",
       "       [0.53977954, 0.        ],\n",
       "       [0.5590961 , 0.        ],\n",
       "       [0.        , 0.        ],\n",
       "       [0.        , 0.        ],\n",
       "       [0.        , 0.        ],\n",
       "       [0.01494607, 0.        ],\n",
       "       [0.        , 0.        ],\n",
       "       [0.15082341, 0.        ],\n",
       "       [0.4519505 , 0.        ],\n",
       "       [0.        , 0.        ],\n",
       "       [0.7657224 , 0.        ],\n",
       "       [0.96109354, 0.        ],\n",
       "       [0.55073833, 0.        ],\n",
       "       [0.        , 0.        ],\n",
       "       [0.        , 0.        ],\n",
       "       [0.        , 0.        ],\n",
       "       [0.5407121 , 0.        ],\n",
       "       [0.8399317 , 0.        ],\n",
       "       [0.542825  , 0.        ],\n",
       "       [0.5332033 , 0.        ],\n",
       "       [0.66431224, 0.        ],\n",
       "       [0.        , 0.        ],\n",
       "       [0.38021898, 0.        ],\n",
       "       [0.71074057, 0.        ],\n",
       "       [0.7121703 , 0.        ],\n",
       "       [0.        , 0.        ],\n",
       "       [0.        , 0.        ],\n",
       "       [0.7328346 , 0.        ],\n",
       "       [0.        , 0.        ],\n",
       "       [0.13241416, 0.        ],\n",
       "       [0.32054687, 0.        ],\n",
       "       [0.        , 0.        ],\n",
       "       [0.        , 0.        ],\n",
       "       [0.        , 0.        ],\n",
       "       [0.        , 0.        ],\n",
       "       [0.52594507, 0.        ],\n",
       "       [0.        , 0.        ],\n",
       "       [0.0737541 , 0.        ],\n",
       "       [0.6685524 , 0.        ],\n",
       "       [0.        , 0.        ],\n",
       "       [0.        , 0.        ],\n",
       "       [0.76091415, 0.        ],\n",
       "       [0.64398867, 0.        ],\n",
       "       [0.49319136, 0.        ],\n",
       "       [0.5256184 , 0.        ],\n",
       "       [0.8162798 , 0.        ],\n",
       "       [0.        , 0.        ],\n",
       "       [0.        , 0.        ],\n",
       "       [0.00307739, 0.        ],\n",
       "       [0.        , 0.        ],\n",
       "       [0.13272965, 0.        ],\n",
       "       [0.38529703, 0.        ],\n",
       "       [0.4483096 , 0.        ],\n",
       "       [0.        , 0.        ],\n",
       "       [0.        , 0.        ],\n",
       "       [0.5316097 , 0.        ],\n",
       "       [0.        , 0.        ],\n",
       "       [0.64529026, 0.        ],\n",
       "       [0.5250653 , 0.        ],\n",
       "       [0.        , 0.        ],\n",
       "       [0.        , 0.        ],\n",
       "       [0.        , 0.        ],\n",
       "       [0.39123362, 0.        ],\n",
       "       [0.774664  , 0.        ],\n",
       "       [0.5530544 , 0.        ],\n",
       "       [0.64003056, 0.        ],\n",
       "       [0.7971072 , 0.        ],\n",
       "       [0.5859303 , 0.03038254],\n",
       "       [0.        , 0.        ],\n",
       "       [0.        , 0.        ],\n",
       "       [0.69729173, 0.        ],\n",
       "       [0.34870446, 0.        ],\n",
       "       [0.64475465, 0.        ],\n",
       "       [0.58011746, 0.        ],\n",
       "       [0.39675236, 0.        ],\n",
       "       [0.67145675, 0.        ],\n",
       "       [0.4883282 , 0.        ],\n",
       "       [0.14286605, 0.        ],\n",
       "       [0.        , 0.        ],\n",
       "       [0.18850935, 0.        ],\n",
       "       [0.        , 0.        ],\n",
       "       [0.48300558, 0.        ],\n",
       "       [0.59772885, 0.        ],\n",
       "       [0.59546375, 0.        ],\n",
       "       [0.6548708 , 0.        ],\n",
       "       [0.4292398 , 0.        ],\n",
       "       [0.        , 0.        ],\n",
       "       [0.        , 0.        ],\n",
       "       [0.626117  , 0.        ],\n",
       "       [0.6524458 , 0.        ],\n",
       "       [0.6578082 , 0.        ],\n",
       "       [0.72245467, 0.        ],\n",
       "       [0.6080673 , 0.        ],\n",
       "       [0.6314713 , 0.        ],\n",
       "       [0.        , 0.        ],\n",
       "       [0.        , 0.        ],\n",
       "       [0.57302004, 0.        ],\n",
       "       [0.64672136, 0.        ],\n",
       "       [0.        , 0.        ],\n",
       "       [0.24065219, 0.        ],\n",
       "       [0.43824634, 0.        ],\n",
       "       [0.536699  , 0.        ],\n",
       "       [0.05159432, 0.        ],\n",
       "       [0.65213364, 0.        ],\n",
       "       [0.        , 0.        ],\n",
       "       [0.        , 0.        ],\n",
       "       [0.32837623, 0.        ],\n",
       "       [0.        , 0.        ],\n",
       "       [0.        , 0.        ],\n",
       "       [0.        , 0.        ],\n",
       "       [0.5156118 , 0.        ],\n",
       "       [0.08408588, 0.        ],\n",
       "       [0.47914943, 0.        ],\n",
       "       [0.29011166, 0.        ],\n",
       "       [0.        , 0.        ],\n",
       "       [0.        , 0.        ],\n",
       "       [0.        , 0.        ],\n",
       "       [0.77346635, 0.        ],\n",
       "       [0.        , 0.        ],\n",
       "       [0.46728784, 0.        ],\n",
       "       [0.51423424, 0.        ],\n",
       "       [0.        , 0.        ],\n",
       "       [0.        , 0.        ],\n",
       "       [0.        , 0.        ],\n",
       "       [0.        , 0.        ],\n",
       "       [0.415163  , 0.        ],\n",
       "       [0.        , 0.        ],\n",
       "       [0.        , 0.        ],\n",
       "       [1.0063714 , 0.        ],\n",
       "       [0.        , 0.        ],\n",
       "       [0.4738077 , 0.        ],\n",
       "       [0.30907702, 0.        ],\n",
       "       [0.        , 0.        ],\n",
       "       [0.4244282 , 0.        ],\n",
       "       [0.04011574, 0.        ],\n",
       "       [0.5368992 , 0.        ],\n",
       "       [0.47264463, 0.        ],\n",
       "       [0.17824537, 0.        ],\n",
       "       [0.5061653 , 0.        ],\n",
       "       [0.        , 0.        ],\n",
       "       [0.51212347, 0.        ],\n",
       "       [0.46407187, 0.        ],\n",
       "       [0.74241817, 0.        ],\n",
       "       [0.49022013, 0.        ],\n",
       "       [0.        , 0.        ],\n",
       "       [0.        , 0.        ],\n",
       "       [0.7082107 , 0.        ],\n",
       "       [0.        , 0.        ],\n",
       "       [0.54365766, 0.        ],\n",
       "       [0.        , 0.        ],\n",
       "       [0.        , 0.        ],\n",
       "       [0.6260668 , 0.        ],\n",
       "       [0.18807217, 0.        ],\n",
       "       [0.08829573, 0.        ],\n",
       "       [0.        , 0.        ],\n",
       "       [0.591965  , 0.        ],\n",
       "       [0.        , 0.        ],\n",
       "       [0.1137284 , 0.        ],\n",
       "       [0.84586996, 0.        ],\n",
       "       [0.45242408, 0.        ],\n",
       "       [0.45320684, 0.        ],\n",
       "       [0.6339314 , 0.        ],\n",
       "       [0.12086305, 0.        ],\n",
       "       [0.52305186, 0.        ],\n",
       "       [0.5932796 , 0.        ],\n",
       "       [0.6818198 , 0.        ],\n",
       "       [0.00362059, 0.        ],\n",
       "       [0.        , 0.        ],\n",
       "       [0.        , 0.        ],\n",
       "       [0.05958867, 0.        ],\n",
       "       [0.        , 0.        ],\n",
       "       [0.5539916 , 0.        ],\n",
       "       [0.66409534, 0.        ],\n",
       "       [0.        , 0.        ],\n",
       "       [0.        , 0.        ],\n",
       "       [0.45913783, 0.        ],\n",
       "       [0.45835924, 0.        ],\n",
       "       [0.05665377, 0.        ],\n",
       "       [0.        , 0.        ],\n",
       "       [0.        , 0.        ],\n",
       "       [0.44748303, 0.        ],\n",
       "       [0.        , 0.        ],\n",
       "       [0.        , 0.        ],\n",
       "       [0.86306465, 0.        ],\n",
       "       [0.        , 0.        ],\n",
       "       [0.5093637 , 0.        ],\n",
       "       [0.        , 0.        ],\n",
       "       [0.        , 0.        ],\n",
       "       [0.        , 0.        ],\n",
       "       [0.6431026 , 0.        ],\n",
       "       [0.        , 0.        ],\n",
       "       [0.12277094, 0.        ],\n",
       "       [0.04207367, 0.        ],\n",
       "       [0.7028692 , 0.        ],\n",
       "       [0.56388533, 0.        ],\n",
       "       [0.00758308, 0.        ],\n",
       "       [0.        , 0.        ],\n",
       "       [0.3843332 , 0.        ],\n",
       "       [0.8549961 , 0.        ],\n",
       "       [0.        , 0.        ],\n",
       "       [0.        , 0.        ],\n",
       "       [0.        , 0.        ],\n",
       "       [0.03606987, 0.        ],\n",
       "       [0.04252434, 0.        ],\n",
       "       [0.71318626, 0.        ],\n",
       "       [0.6519702 , 0.        ],\n",
       "       [0.0621734 , 0.        ],\n",
       "       [0.        , 0.        ],\n",
       "       [0.        , 0.        ],\n",
       "       [0.6761652 , 0.        ],\n",
       "       [0.55300266, 0.        ],\n",
       "       [0.        , 0.        ],\n",
       "       [0.415309  , 0.        ],\n",
       "       [0.8789184 , 0.        ],\n",
       "       [0.73001504, 0.        ],\n",
       "       [0.6798097 , 0.        ],\n",
       "       [0.        , 0.        ],\n",
       "       [0.679126  , 0.        ],\n",
       "       [0.427348  , 0.        ],\n",
       "       [0.54977506, 0.        ],\n",
       "       [0.03088242, 0.        ],\n",
       "       [0.        , 0.        ],\n",
       "       [0.559572  , 0.        ],\n",
       "       [0.        , 0.        ],\n",
       "       [0.5588444 , 0.        ],\n",
       "       [0.7249092 , 0.        ],\n",
       "       [0.27995566, 0.        ],\n",
       "       [0.        , 0.        ],\n",
       "       [0.        , 0.        ],\n",
       "       [0.        , 0.        ],\n",
       "       [0.        , 0.        ],\n",
       "       [0.3227607 , 0.        ],\n",
       "       [0.        , 0.        ],\n",
       "       [0.53785217, 0.        ],\n",
       "       [0.5274105 , 0.        ],\n",
       "       [0.19832867, 0.        ],\n",
       "       [0.        , 0.        ],\n",
       "       [0.7984878 , 0.        ],\n",
       "       [0.6885377 , 0.        ],\n",
       "       [0.        , 0.        ],\n",
       "       [0.34427357, 0.        ],\n",
       "       [0.53250825, 0.        ],\n",
       "       [0.        , 0.        ],\n",
       "       [0.68383235, 0.        ],\n",
       "       [0.2440823 , 0.        ],\n",
       "       [0.00575826, 0.        ],\n",
       "       [0.68616855, 0.        ],\n",
       "       [0.44625765, 0.        ],\n",
       "       [0.6515348 , 0.        ],\n",
       "       [0.        , 0.        ]], dtype=float32)"
      ]
     },
     "execution_count": 21,
     "metadata": {},
     "output_type": "execute_result"
    }
   ],
   "source": [
    "encoded_2dim"
   ]
  },
  {
   "cell_type": "code",
   "execution_count": 22,
   "metadata": {},
   "outputs": [
    {
     "data": {
      "text/plain": [
       "<matplotlib.collections.PathCollection at 0x266db5c9430>"
      ]
     },
     "execution_count": 22,
     "metadata": {},
     "output_type": "execute_result"
    },
    {
     "data": {
      "image/png": "[encoded data removed]",
      "text/plain": [
       "<Figure size 432x288 with 1 Axes>"
      ]
     },
     "metadata": {
      "needs_background": "light"
     },
     "output_type": "display_data"
    }
   ],
   "source": [
    "plt.scatter(encoded_2dim[:,0],encoded_2dim[:,1],c=y)"
   ]
  },
  {
   "cell_type": "code",
   "execution_count": null,
   "metadata": {},
   "outputs": [],
   "source": []
  },
  {
   "cell_type": "code",
   "execution_count": null,
   "metadata": {},
   "outputs": [],
   "source": []
  }
 ],
 "metadata": {
  "kernelspec": {
   "display_name": "Python 3",
   "language": "python",
   "name": "python3"
  },
  "language_info": {
   "codemirror_mode": {
    "name": "ipython",
    "version": 3
   },
   "file_extension": ".py",
   "mimetype": "text/x-python",
   "name": "python",
   "nbconvert_exporter": "python",
   "pygments_lexer": "ipython3",
   "version": "3.8.3"
  }
 },
 "nbformat": 4,
 "nbformat_minor": 4
}
